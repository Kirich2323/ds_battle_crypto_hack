{
 "cells": [
  {
   "cell_type": "code",
   "execution_count": 53,
   "id": "51356ac2",
   "metadata": {},
   "outputs": [],
   "source": [
    "import pandas as pd \n",
    "import numpy as np\n",
    "\n",
    "from sklearn.linear_model import LinearRegression\n",
    "\n",
    "from strategy import Strategy\n",
    "from simulator import Simulator\n",
    "\n",
    "from abc import ABC, abstractmethod\n",
    "\n",
    "from typing import Optional\n",
    "\n",
    "import matplotlib.pyplot as plt\n",
    "import seaborn as sns"
   ]
  },
  {
   "cell_type": "code",
   "execution_count": 2,
   "id": "64bb719d",
   "metadata": {},
   "outputs": [],
   "source": [
    "class MLStrategy(Strategy):\n",
    "    def __init__(self):\n",
    "        pass\n",
    "    \n",
    "    def compute_target_position(self, current_data: pd.DataFrame, current_position: float) -> Optional[float]:\n",
    "        pass"
   ]
  },
  {
   "cell_type": "code",
   "execution_count": 32,
   "id": "8d2ede84",
   "metadata": {},
   "outputs": [],
   "source": [
    "data = pd.read_pickle('./data/simulator_data.pickle')"
   ]
  },
  {
   "cell_type": "code",
   "execution_count": 5,
   "id": "52f0d13e",
   "metadata": {},
   "outputs": [],
   "source": [
    "data[['price', 'volume']] = data[['price', 'volume']].astype('float32')"
   ]
  },
  {
   "cell_type": "code",
   "execution_count": 19,
   "id": "96de11a1",
   "metadata": {},
   "outputs": [],
   "source": [
    "window_size = 20"
   ]
  },
  {
   "cell_type": "code",
   "execution_count": 22,
   "id": "f5bc3f33",
   "metadata": {},
   "outputs": [],
   "source": [
    "rolling = [ [np.nan] * ( window_size + 1 - len(x) ) + x.to_list() for x in data.price.rolling(window_size + 1)]"
   ]
  },
  {
   "cell_type": "code",
   "execution_count": 24,
   "id": "b246b16b",
   "metadata": {},
   "outputs": [],
   "source": [
    "data['row'] = rolling"
   ]
  },
  {
   "cell_type": "code",
   "execution_count": 30,
   "id": "b5df99cd",
   "metadata": {},
   "outputs": [],
   "source": [
    "rolling_df = pd.DataFrame.from_records(rolling)"
   ]
  },
  {
   "cell_type": "code",
   "execution_count": 34,
   "id": "d0ada461",
   "metadata": {},
   "outputs": [],
   "source": [
    "data = data.reset_index().join(rolling_df)"
   ]
  },
  {
   "cell_type": "code",
   "execution_count": 36,
   "id": "a8c6f38f",
   "metadata": {},
   "outputs": [],
   "source": [
    "data = data.dropna()"
   ]
  },
  {
   "cell_type": "code",
   "execution_count": 38,
   "id": "89f7bcab",
   "metadata": {},
   "outputs": [],
   "source": [
    "target = window_size"
   ]
  },
  {
   "cell_type": "code",
   "execution_count": 39,
   "id": "786c10b7",
   "metadata": {},
   "outputs": [],
   "source": [
    "xs = list(range(window_size))"
   ]
  },
  {
   "cell_type": "code",
   "execution_count": 40,
   "id": "0040a8aa",
   "metadata": {},
   "outputs": [],
   "source": [
    "from sklearn.model_selection import train_test_split"
   ]
  },
  {
   "cell_type": "code",
   "execution_count": 42,
   "id": "5f77ee85",
   "metadata": {},
   "outputs": [],
   "source": [
    "train_valid, test = data[data['index'] < '2021-10-01'], data[data['index'] >= '2021-10-01']\n",
    "train, valid = train_test_split(train_valid, test_size = 0.3, random_state = 41)"
   ]
  },
  {
   "cell_type": "code",
   "execution_count": 43,
   "id": "0f261c1d",
   "metadata": {},
   "outputs": [],
   "source": [
    "lr = LinearRegression()"
   ]
  },
  {
   "cell_type": "code",
   "execution_count": 44,
   "id": "076e23c9",
   "metadata": {},
   "outputs": [],
   "source": [
    "X_train = train[xs]\n",
    "X_valid = valid[xs]\n",
    "X_test = test[xs]\n",
    "\n",
    "y_train = train[target]\n",
    "y_valid = valid[target]\n",
    "y_test = test[target]"
   ]
  },
  {
   "cell_type": "code",
   "execution_count": 45,
   "id": "f3e6b6d8",
   "metadata": {},
   "outputs": [
    {
     "data": {
      "text/html": [
       "<style>#sk-container-id-1 {color: black;background-color: white;}#sk-container-id-1 pre{padding: 0;}#sk-container-id-1 div.sk-toggleable {background-color: white;}#sk-container-id-1 label.sk-toggleable__label {cursor: pointer;display: block;width: 100%;margin-bottom: 0;padding: 0.3em;box-sizing: border-box;text-align: center;}#sk-container-id-1 label.sk-toggleable__label-arrow:before {content: \"▸\";float: left;margin-right: 0.25em;color: #696969;}#sk-container-id-1 label.sk-toggleable__label-arrow:hover:before {color: black;}#sk-container-id-1 div.sk-estimator:hover label.sk-toggleable__label-arrow:before {color: black;}#sk-container-id-1 div.sk-toggleable__content {max-height: 0;max-width: 0;overflow: hidden;text-align: left;background-color: #f0f8ff;}#sk-container-id-1 div.sk-toggleable__content pre {margin: 0.2em;color: black;border-radius: 0.25em;background-color: #f0f8ff;}#sk-container-id-1 input.sk-toggleable__control:checked~div.sk-toggleable__content {max-height: 200px;max-width: 100%;overflow: auto;}#sk-container-id-1 input.sk-toggleable__control:checked~label.sk-toggleable__label-arrow:before {content: \"▾\";}#sk-container-id-1 div.sk-estimator input.sk-toggleable__control:checked~label.sk-toggleable__label {background-color: #d4ebff;}#sk-container-id-1 div.sk-label input.sk-toggleable__control:checked~label.sk-toggleable__label {background-color: #d4ebff;}#sk-container-id-1 input.sk-hidden--visually {border: 0;clip: rect(1px 1px 1px 1px);clip: rect(1px, 1px, 1px, 1px);height: 1px;margin: -1px;overflow: hidden;padding: 0;position: absolute;width: 1px;}#sk-container-id-1 div.sk-estimator {font-family: monospace;background-color: #f0f8ff;border: 1px dotted black;border-radius: 0.25em;box-sizing: border-box;margin-bottom: 0.5em;}#sk-container-id-1 div.sk-estimator:hover {background-color: #d4ebff;}#sk-container-id-1 div.sk-parallel-item::after {content: \"\";width: 100%;border-bottom: 1px solid gray;flex-grow: 1;}#sk-container-id-1 div.sk-label:hover label.sk-toggleable__label {background-color: #d4ebff;}#sk-container-id-1 div.sk-serial::before {content: \"\";position: absolute;border-left: 1px solid gray;box-sizing: border-box;top: 0;bottom: 0;left: 50%;z-index: 0;}#sk-container-id-1 div.sk-serial {display: flex;flex-direction: column;align-items: center;background-color: white;padding-right: 0.2em;padding-left: 0.2em;position: relative;}#sk-container-id-1 div.sk-item {position: relative;z-index: 1;}#sk-container-id-1 div.sk-parallel {display: flex;align-items: stretch;justify-content: center;background-color: white;position: relative;}#sk-container-id-1 div.sk-item::before, #sk-container-id-1 div.sk-parallel-item::before {content: \"\";position: absolute;border-left: 1px solid gray;box-sizing: border-box;top: 0;bottom: 0;left: 50%;z-index: -1;}#sk-container-id-1 div.sk-parallel-item {display: flex;flex-direction: column;z-index: 1;position: relative;background-color: white;}#sk-container-id-1 div.sk-parallel-item:first-child::after {align-self: flex-end;width: 50%;}#sk-container-id-1 div.sk-parallel-item:last-child::after {align-self: flex-start;width: 50%;}#sk-container-id-1 div.sk-parallel-item:only-child::after {width: 0;}#sk-container-id-1 div.sk-dashed-wrapped {border: 1px dashed gray;margin: 0 0.4em 0.5em 0.4em;box-sizing: border-box;padding-bottom: 0.4em;background-color: white;}#sk-container-id-1 div.sk-label label {font-family: monospace;font-weight: bold;display: inline-block;line-height: 1.2em;}#sk-container-id-1 div.sk-label-container {text-align: center;}#sk-container-id-1 div.sk-container {/* jupyter's `normalize.less` sets `[hidden] { display: none; }` but bootstrap.min.css set `[hidden] { display: none !important; }` so we also need the `!important` here to be able to override the default hidden behavior on the sphinx rendered scikit-learn.org. See: https://github.com/scikit-learn/scikit-learn/issues/21755 */display: inline-block !important;position: relative;}#sk-container-id-1 div.sk-text-repr-fallback {display: none;}</style><div id=\"sk-container-id-1\" class=\"sk-top-container\"><div class=\"sk-text-repr-fallback\"><pre>LinearRegression()</pre><b>In a Jupyter environment, please rerun this cell to show the HTML representation or trust the notebook. <br />On GitHub, the HTML representation is unable to render, please try loading this page with nbviewer.org.</b></div><div class=\"sk-container\" hidden><div class=\"sk-item\"><div class=\"sk-estimator sk-toggleable\"><input class=\"sk-toggleable__control sk-hidden--visually\" id=\"sk-estimator-id-1\" type=\"checkbox\" checked><label for=\"sk-estimator-id-1\" class=\"sk-toggleable__label sk-toggleable__label-arrow\">LinearRegression</label><div class=\"sk-toggleable__content\"><pre>LinearRegression()</pre></div></div></div></div></div>"
      ],
      "text/plain": [
       "LinearRegression()"
      ]
     },
     "execution_count": 45,
     "metadata": {},
     "output_type": "execute_result"
    }
   ],
   "source": [
    "lr.fit(X_train, y_train)"
   ]
  },
  {
   "cell_type": "code",
   "execution_count": 47,
   "id": "6455710c",
   "metadata": {},
   "outputs": [],
   "source": [
    "train_preds = lr.predict(X_train)\n",
    "valid_preds = lr.predict(X_valid)\n",
    "test_preds = lr.predict(X_test)"
   ]
  },
  {
   "cell_type": "code",
   "execution_count": 78,
   "id": "c85a7198",
   "metadata": {},
   "outputs": [
    {
     "data": {
      "text/plain": [
       "618408      2731.340088\n",
       "109521      3663.199951\n",
       "1159603     4178.819824\n",
       "1365747     8560.759766\n",
       "1323457     7348.080078\n",
       "               ...     \n",
       "250980      2326.280029\n",
       "741366      6645.399902\n",
       "847776      9689.501953\n",
       "1704887    42852.261719\n",
       "1869780    16451.669922\n",
       "Name: 20, Length: 1375598, dtype: float64"
      ]
     },
     "metadata": {},
     "output_type": "display_data"
    }
   ],
   "source": [
    "display(y_train)"
   ]
  },
  {
   "cell_type": "code",
   "execution_count": 80,
   "id": "4923dffe",
   "metadata": {},
   "outputs": [
    {
     "data": {
      "text/html": [
       "<div>\n",
       "<style scoped>\n",
       "    .dataframe tbody tr th:only-of-type {\n",
       "        vertical-align: middle;\n",
       "    }\n",
       "\n",
       "    .dataframe tbody tr th {\n",
       "        vertical-align: top;\n",
       "    }\n",
       "\n",
       "    .dataframe thead th {\n",
       "        text-align: right;\n",
       "    }\n",
       "</style>\n",
       "<table border=\"1\" class=\"dataframe\">\n",
       "  <thead>\n",
       "    <tr style=\"text-align: right;\">\n",
       "      <th></th>\n",
       "      <th>0</th>\n",
       "      <th>1</th>\n",
       "      <th>2</th>\n",
       "      <th>3</th>\n",
       "      <th>4</th>\n",
       "      <th>5</th>\n",
       "      <th>6</th>\n",
       "      <th>7</th>\n",
       "      <th>8</th>\n",
       "      <th>9</th>\n",
       "      <th>10</th>\n",
       "      <th>11</th>\n",
       "      <th>12</th>\n",
       "      <th>13</th>\n",
       "      <th>14</th>\n",
       "      <th>15</th>\n",
       "      <th>16</th>\n",
       "      <th>17</th>\n",
       "      <th>18</th>\n",
       "      <th>19</th>\n",
       "    </tr>\n",
       "  </thead>\n",
       "  <tbody>\n",
       "    <tr>\n",
       "      <th>618408</th>\n",
       "      <td>2733.139893</td>\n",
       "      <td>2722.860107</td>\n",
       "      <td>2734.590088</td>\n",
       "      <td>2735.669922</td>\n",
       "      <td>2735.239990</td>\n",
       "      <td>2755.892090</td>\n",
       "      <td>2733.500000</td>\n",
       "      <td>2732.560059</td>\n",
       "      <td>2731.071289</td>\n",
       "      <td>2722.620117</td>\n",
       "      <td>2754.280029</td>\n",
       "      <td>2723.610107</td>\n",
       "      <td>2737.469971</td>\n",
       "      <td>2724.356201</td>\n",
       "      <td>2733.712402</td>\n",
       "      <td>2723.689941</td>\n",
       "      <td>2721.600098</td>\n",
       "      <td>2732.459961</td>\n",
       "      <td>2724.300537</td>\n",
       "      <td>2733.120117</td>\n",
       "    </tr>\n",
       "    <tr>\n",
       "      <th>109521</th>\n",
       "      <td>3684.939941</td>\n",
       "      <td>3665.379883</td>\n",
       "      <td>3652.540039</td>\n",
       "      <td>3645.100098</td>\n",
       "      <td>3669.919922</td>\n",
       "      <td>3687.040039</td>\n",
       "      <td>3669.360107</td>\n",
       "      <td>3681.449951</td>\n",
       "      <td>3677.290039</td>\n",
       "      <td>3672.760010</td>\n",
       "      <td>3650.179932</td>\n",
       "      <td>3656.729980</td>\n",
       "      <td>3631.919922</td>\n",
       "      <td>3622.379883</td>\n",
       "      <td>3614.699951</td>\n",
       "      <td>3630.770020</td>\n",
       "      <td>3646.850098</td>\n",
       "      <td>3636.399902</td>\n",
       "      <td>3636.429932</td>\n",
       "      <td>3659.909912</td>\n",
       "    </tr>\n",
       "    <tr>\n",
       "      <th>1159603</th>\n",
       "      <td>4259.250000</td>\n",
       "      <td>4297.240234</td>\n",
       "      <td>4276.226562</td>\n",
       "      <td>4182.720215</td>\n",
       "      <td>4197.399902</td>\n",
       "      <td>4192.060059</td>\n",
       "      <td>4214.620117</td>\n",
       "      <td>4183.759766</td>\n",
       "      <td>4181.640137</td>\n",
       "      <td>4088.050049</td>\n",
       "      <td>4157.660156</td>\n",
       "      <td>4124.419922</td>\n",
       "      <td>4140.799805</td>\n",
       "      <td>4140.079102</td>\n",
       "      <td>4201.390137</td>\n",
       "      <td>4174.281738</td>\n",
       "      <td>4159.509766</td>\n",
       "      <td>4191.609863</td>\n",
       "      <td>4197.890137</td>\n",
       "      <td>4211.180176</td>\n",
       "    </tr>\n",
       "    <tr>\n",
       "      <th>1365747</th>\n",
       "      <td>8541.160156</td>\n",
       "      <td>8537.607422</td>\n",
       "      <td>8550.410156</td>\n",
       "      <td>8550.853516</td>\n",
       "      <td>8563.549805</td>\n",
       "      <td>8566.320312</td>\n",
       "      <td>8569.190430</td>\n",
       "      <td>8568.559570</td>\n",
       "      <td>8566.639648</td>\n",
       "      <td>8561.206055</td>\n",
       "      <td>8560.912109</td>\n",
       "      <td>8558.110352</td>\n",
       "      <td>8543.849609</td>\n",
       "      <td>8564.919922</td>\n",
       "      <td>8561.000000</td>\n",
       "      <td>8544.808594</td>\n",
       "      <td>8556.230469</td>\n",
       "      <td>8559.410156</td>\n",
       "      <td>8558.749023</td>\n",
       "      <td>8552.159180</td>\n",
       "    </tr>\n",
       "    <tr>\n",
       "      <th>1323457</th>\n",
       "      <td>7326.234863</td>\n",
       "      <td>7327.580078</td>\n",
       "      <td>7329.410156</td>\n",
       "      <td>7330.680176</td>\n",
       "      <td>7330.189941</td>\n",
       "      <td>7336.959961</td>\n",
       "      <td>7329.459961</td>\n",
       "      <td>7340.479980</td>\n",
       "      <td>7335.379883</td>\n",
       "      <td>7331.640137</td>\n",
       "      <td>7334.580078</td>\n",
       "      <td>7335.939941</td>\n",
       "      <td>7339.609863</td>\n",
       "      <td>7340.532227</td>\n",
       "      <td>7332.660156</td>\n",
       "      <td>7333.891602</td>\n",
       "      <td>7336.120117</td>\n",
       "      <td>7338.169922</td>\n",
       "      <td>7337.642578</td>\n",
       "      <td>7340.140137</td>\n",
       "    </tr>\n",
       "    <tr>\n",
       "      <th>...</th>\n",
       "      <td>...</td>\n",
       "      <td>...</td>\n",
       "      <td>...</td>\n",
       "      <td>...</td>\n",
       "      <td>...</td>\n",
       "      <td>...</td>\n",
       "      <td>...</td>\n",
       "      <td>...</td>\n",
       "      <td>...</td>\n",
       "      <td>...</td>\n",
       "      <td>...</td>\n",
       "      <td>...</td>\n",
       "      <td>...</td>\n",
       "      <td>...</td>\n",
       "      <td>...</td>\n",
       "      <td>...</td>\n",
       "      <td>...</td>\n",
       "      <td>...</td>\n",
       "      <td>...</td>\n",
       "      <td>...</td>\n",
       "    </tr>\n",
       "    <tr>\n",
       "      <th>250980</th>\n",
       "      <td>2312.399902</td>\n",
       "      <td>2292.340088</td>\n",
       "      <td>2439.820068</td>\n",
       "      <td>2318.860107</td>\n",
       "      <td>2323.620117</td>\n",
       "      <td>2307.540039</td>\n",
       "      <td>2346.750000</td>\n",
       "      <td>2346.129883</td>\n",
       "      <td>2338.939941</td>\n",
       "      <td>2289.199951</td>\n",
       "      <td>2292.060059</td>\n",
       "      <td>2282.300049</td>\n",
       "      <td>2303.419922</td>\n",
       "      <td>2414.080078</td>\n",
       "      <td>2319.399902</td>\n",
       "      <td>2295.479980</td>\n",
       "      <td>2302.320068</td>\n",
       "      <td>2418.909912</td>\n",
       "      <td>2331.129883</td>\n",
       "      <td>2306.840088</td>\n",
       "    </tr>\n",
       "    <tr>\n",
       "      <th>741366</th>\n",
       "      <td>6641.319824</td>\n",
       "      <td>6629.040039</td>\n",
       "      <td>6627.379883</td>\n",
       "      <td>6632.080078</td>\n",
       "      <td>6626.950195</td>\n",
       "      <td>6623.200195</td>\n",
       "      <td>6624.580078</td>\n",
       "      <td>6620.939941</td>\n",
       "      <td>6619.930176</td>\n",
       "      <td>6622.701172</td>\n",
       "      <td>6617.140137</td>\n",
       "      <td>6625.020020</td>\n",
       "      <td>6632.939941</td>\n",
       "      <td>6632.733887</td>\n",
       "      <td>6643.200195</td>\n",
       "      <td>6630.359863</td>\n",
       "      <td>6629.819824</td>\n",
       "      <td>6625.209961</td>\n",
       "      <td>6634.919922</td>\n",
       "      <td>6634.439941</td>\n",
       "    </tr>\n",
       "    <tr>\n",
       "      <th>847776</th>\n",
       "      <td>9703.320312</td>\n",
       "      <td>9703.146484</td>\n",
       "      <td>9670.730469</td>\n",
       "      <td>9671.219727</td>\n",
       "      <td>9681.019531</td>\n",
       "      <td>9701.269531</td>\n",
       "      <td>9685.490234</td>\n",
       "      <td>9679.559570</td>\n",
       "      <td>9711.719727</td>\n",
       "      <td>9690.112305</td>\n",
       "      <td>9688.200195</td>\n",
       "      <td>9689.309570</td>\n",
       "      <td>9686.580078</td>\n",
       "      <td>9720.000000</td>\n",
       "      <td>9688.459961</td>\n",
       "      <td>9703.950195</td>\n",
       "      <td>9684.750000</td>\n",
       "      <td>9682.030273</td>\n",
       "      <td>9698.599609</td>\n",
       "      <td>9686.080078</td>\n",
       "    </tr>\n",
       "    <tr>\n",
       "      <th>1704887</th>\n",
       "      <td>43368.609375</td>\n",
       "      <td>43330.871094</td>\n",
       "      <td>43347.078125</td>\n",
       "      <td>43281.589844</td>\n",
       "      <td>43309.820312</td>\n",
       "      <td>43348.769531</td>\n",
       "      <td>43273.960938</td>\n",
       "      <td>43256.105469</td>\n",
       "      <td>43154.660156</td>\n",
       "      <td>43160.019531</td>\n",
       "      <td>43197.722656</td>\n",
       "      <td>43043.269531</td>\n",
       "      <td>42875.441406</td>\n",
       "      <td>42900.300781</td>\n",
       "      <td>42880.078125</td>\n",
       "      <td>42808.839844</td>\n",
       "      <td>42811.921875</td>\n",
       "      <td>42909.734375</td>\n",
       "      <td>42825.570312</td>\n",
       "      <td>42775.789062</td>\n",
       "    </tr>\n",
       "    <tr>\n",
       "      <th>1869780</th>\n",
       "      <td>16268.709961</td>\n",
       "      <td>16259.580078</td>\n",
       "      <td>16222.360352</td>\n",
       "      <td>16225.629883</td>\n",
       "      <td>16218.030273</td>\n",
       "      <td>16223.719727</td>\n",
       "      <td>16221.839844</td>\n",
       "      <td>16245.976562</td>\n",
       "      <td>16225.730469</td>\n",
       "      <td>16240.000000</td>\n",
       "      <td>16289.320312</td>\n",
       "      <td>16335.950195</td>\n",
       "      <td>16434.853516</td>\n",
       "      <td>16385.470703</td>\n",
       "      <td>16404.029297</td>\n",
       "      <td>16436.519531</td>\n",
       "      <td>16482.023438</td>\n",
       "      <td>16485.750000</td>\n",
       "      <td>16473.119141</td>\n",
       "      <td>16491.630859</td>\n",
       "    </tr>\n",
       "  </tbody>\n",
       "</table>\n",
       "<p>1375598 rows × 20 columns</p>\n",
       "</div>"
      ],
      "text/plain": [
       "                    0             1             2             3             4  \\\n",
       "618408    2733.139893   2722.860107   2734.590088   2735.669922   2735.239990   \n",
       "109521    3684.939941   3665.379883   3652.540039   3645.100098   3669.919922   \n",
       "1159603   4259.250000   4297.240234   4276.226562   4182.720215   4197.399902   \n",
       "1365747   8541.160156   8537.607422   8550.410156   8550.853516   8563.549805   \n",
       "1323457   7326.234863   7327.580078   7329.410156   7330.680176   7330.189941   \n",
       "...               ...           ...           ...           ...           ...   \n",
       "250980    2312.399902   2292.340088   2439.820068   2318.860107   2323.620117   \n",
       "741366    6641.319824   6629.040039   6627.379883   6632.080078   6626.950195   \n",
       "847776    9703.320312   9703.146484   9670.730469   9671.219727   9681.019531   \n",
       "1704887  43368.609375  43330.871094  43347.078125  43281.589844  43309.820312   \n",
       "1869780  16268.709961  16259.580078  16222.360352  16225.629883  16218.030273   \n",
       "\n",
       "                    5             6             7             8             9  \\\n",
       "618408    2755.892090   2733.500000   2732.560059   2731.071289   2722.620117   \n",
       "109521    3687.040039   3669.360107   3681.449951   3677.290039   3672.760010   \n",
       "1159603   4192.060059   4214.620117   4183.759766   4181.640137   4088.050049   \n",
       "1365747   8566.320312   8569.190430   8568.559570   8566.639648   8561.206055   \n",
       "1323457   7336.959961   7329.459961   7340.479980   7335.379883   7331.640137   \n",
       "...               ...           ...           ...           ...           ...   \n",
       "250980    2307.540039   2346.750000   2346.129883   2338.939941   2289.199951   \n",
       "741366    6623.200195   6624.580078   6620.939941   6619.930176   6622.701172   \n",
       "847776    9701.269531   9685.490234   9679.559570   9711.719727   9690.112305   \n",
       "1704887  43348.769531  43273.960938  43256.105469  43154.660156  43160.019531   \n",
       "1869780  16223.719727  16221.839844  16245.976562  16225.730469  16240.000000   \n",
       "\n",
       "                   10            11            12            13            14  \\\n",
       "618408    2754.280029   2723.610107   2737.469971   2724.356201   2733.712402   \n",
       "109521    3650.179932   3656.729980   3631.919922   3622.379883   3614.699951   \n",
       "1159603   4157.660156   4124.419922   4140.799805   4140.079102   4201.390137   \n",
       "1365747   8560.912109   8558.110352   8543.849609   8564.919922   8561.000000   \n",
       "1323457   7334.580078   7335.939941   7339.609863   7340.532227   7332.660156   \n",
       "...               ...           ...           ...           ...           ...   \n",
       "250980    2292.060059   2282.300049   2303.419922   2414.080078   2319.399902   \n",
       "741366    6617.140137   6625.020020   6632.939941   6632.733887   6643.200195   \n",
       "847776    9688.200195   9689.309570   9686.580078   9720.000000   9688.459961   \n",
       "1704887  43197.722656  43043.269531  42875.441406  42900.300781  42880.078125   \n",
       "1869780  16289.320312  16335.950195  16434.853516  16385.470703  16404.029297   \n",
       "\n",
       "                   15            16            17            18            19  \n",
       "618408    2723.689941   2721.600098   2732.459961   2724.300537   2733.120117  \n",
       "109521    3630.770020   3646.850098   3636.399902   3636.429932   3659.909912  \n",
       "1159603   4174.281738   4159.509766   4191.609863   4197.890137   4211.180176  \n",
       "1365747   8544.808594   8556.230469   8559.410156   8558.749023   8552.159180  \n",
       "1323457   7333.891602   7336.120117   7338.169922   7337.642578   7340.140137  \n",
       "...               ...           ...           ...           ...           ...  \n",
       "250980    2295.479980   2302.320068   2418.909912   2331.129883   2306.840088  \n",
       "741366    6630.359863   6629.819824   6625.209961   6634.919922   6634.439941  \n",
       "847776    9703.950195   9684.750000   9682.030273   9698.599609   9686.080078  \n",
       "1704887  42808.839844  42811.921875  42909.734375  42825.570312  42775.789062  \n",
       "1869780  16436.519531  16482.023438  16485.750000  16473.119141  16491.630859  \n",
       "\n",
       "[1375598 rows x 20 columns]"
      ]
     },
     "metadata": {},
     "output_type": "display_data"
    }
   ],
   "source": [
    "display(X_train)"
   ]
  },
  {
   "cell_type": "code",
   "execution_count": 79,
   "id": "a0f6f0fa",
   "metadata": {},
   "outputs": [
    {
     "data": {
      "text/plain": [
       "array([ 2729.91251616,  3648.8703206 ,  4198.05210635, ...,\n",
       "        9689.42126376, 42820.94903563, 16476.9990701 ])"
      ]
     },
     "metadata": {},
     "output_type": "display_data"
    }
   ],
   "source": [
    "display(train_preds)"
   ]
  },
  {
   "cell_type": "code",
   "execution_count": 77,
   "id": "be1deb97",
   "metadata": {},
   "outputs": [
    {
     "data": {
      "text/plain": [
       "array([ 0.00420273, -0.00451659, -0.00266555, -0.00572605,  0.00390364,\n",
       "        0.00369524, -0.00220751,  0.00717563,  0.00065827,  0.00356256,\n",
       "        0.0048636 ,  0.01460232, -0.00225902,  0.00409535,  0.01572608,\n",
       "        0.0309756 ,  0.0637304 ,  0.13741569,  0.2448014 ,  0.47795525])"
      ]
     },
     "execution_count": 77,
     "metadata": {},
     "output_type": "execute_result"
    }
   ],
   "source": [
    "lr.coef_"
   ]
  },
  {
   "cell_type": "code",
   "execution_count": 48,
   "id": "645605bb",
   "metadata": {},
   "outputs": [],
   "source": [
    "from sklearn.metrics import mean_squared_error, r2_score, mean_absolute_error"
   ]
  },
  {
   "cell_type": "code",
   "execution_count": 49,
   "id": "4483d0dd",
   "metadata": {},
   "outputs": [],
   "source": [
    "def eval_preds(true, preds):\n",
    "    print(f'r2: {round(r2_score(true, preds), 4)}')\n",
    "    print(f'rmse: {round(mean_squared_error(true, preds)**0.5, 4)}')\n",
    "    print(f'mae: {round(mean_absolute_error(true, preds), 4)}')"
   ]
  },
  {
   "cell_type": "code",
   "execution_count": null,
   "id": "3b05e46c",
   "metadata": {},
   "outputs": [],
   "source": [
    "def plot_preds(df):\n",
    "    pass"
   ]
  },
  {
   "cell_type": "code",
   "execution_count": 50,
   "id": "0c4db544",
   "metadata": {},
   "outputs": [
    {
     "name": "stdout",
     "output_type": "stream",
     "text": [
      "r2: 1.0\n",
      "rmse: 47.5808\n",
      "mae: 25.4162\n"
     ]
    }
   ],
   "source": [
    "eval_preds(y_train, train_preds)"
   ]
  },
  {
   "cell_type": "code",
   "execution_count": 51,
   "id": "e269a6a6",
   "metadata": {},
   "outputs": [
    {
     "name": "stdout",
     "output_type": "stream",
     "text": [
      "r2: 1.0\n",
      "rmse: 47.3384\n",
      "mae: 25.381\n"
     ]
    }
   ],
   "source": [
    "eval_preds(y_valid, valid_preds)"
   ]
  },
  {
   "cell_type": "code",
   "execution_count": 52,
   "id": "d6812730",
   "metadata": {},
   "outputs": [
    {
     "name": "stdout",
     "output_type": "stream",
     "text": [
      "r2: 1.0\n",
      "rmse: 32.116\n",
      "mae: 19.9199\n"
     ]
    }
   ],
   "source": [
    "eval_preds(y_test, test_preds)"
   ]
  },
  {
   "cell_type": "code",
   "execution_count": null,
   "id": "6feb78c7",
   "metadata": {},
   "outputs": [],
   "source": [
    "plt.figure(figsize=(16, 9))\n",
    "sns.scatterplot(train['index'], y_train, size=0.1)\n",
    "sns.scatterplot(train['index'], train_preds, size=0.1)"
   ]
  },
  {
   "cell_type": "code",
   "execution_count": 86,
   "id": "dc3abe34",
   "metadata": {},
   "outputs": [
    {
     "data": {
      "text/plain": [
       "[<matplotlib.lines.Line2D at 0x7f219fd99100>]"
      ]
     },
     "execution_count": 86,
     "metadata": {},
     "output_type": "execute_result"
    },
    {
     "data": {
      "image/png": "[encoded data removed]",
      "text/plain": [
       "<Figure size 1152x648 with 1 Axes>"
      ]
     },
     "metadata": {
      "needs_background": "light"
     },
     "output_type": "display_data"
    }
   ],
   "source": [
    "plt.figure(figsize=(16, 9))\n",
    "plt.plot(data['price'].diff())"
   ]
  },
  {
   "cell_type": "code",
   "execution_count": 108,
   "id": "1654d085",
   "metadata": {},
   "outputs": [
    {
     "data": {
      "text/plain": [
       "[<matplotlib.lines.Line2D at 0x7f219f6206a0>]"
      ]
     },
     "execution_count": 108,
     "metadata": {},
     "output_type": "execute_result"
    },
    {
     "data": {
      "image/png": "[encoded data removed]",
      "text/plain": [
       "<Figure size 1152x648 with 1 Axes>"
      ]
     },
     "metadata": {
      "needs_background": "light"
     },
     "output_type": "display_data"
    }
   ],
   "source": [
    "plt.figure(figsize=(16, 9))\n",
    "plt.plot(data['price'].diff().rolling(600000).mean())"
   ]
  },
  {
   "cell_type": "code",
   "execution_count": 99,
   "id": "974d219a",
   "metadata": {},
   "outputs": [
    {
     "data": {
      "text/plain": [
       "[<matplotlib.lines.Line2D at 0x7f219f9ae370>]"
      ]
     },
     "execution_count": 99,
     "metadata": {},
     "output_type": "execute_result"
    },
    {
     "data": {
      "image/png": "[encoded data removed]",
      "text/plain": [
       "<Figure size 432x288 with 1 Axes>"
      ]
     },
     "metadata": {
      "needs_background": "light"
     },
     "output_type": "display_data"
    }
   ],
   "source": [
    "plt.plot(data['price'].rolling(24 * 60 * 2).mean())"
   ]
  },
  {
   "cell_type": "code",
   "execution_count": 88,
   "id": "bcd4ea20",
   "metadata": {},
   "outputs": [
    {
     "data": {
      "text/plain": [
       "20       NaN\n",
       "21   -102.99\n",
       "22      0.32\n",
       "23    121.80\n",
       "24   -148.52\n",
       "25    182.31\n",
       "26   -130.18\n",
       "27      2.89\n",
       "28      0.34\n",
       "29     -5.52\n",
       "30     73.93\n",
       "31    -52.77\n",
       "32    155.42\n",
       "33   -166.10\n",
       "34    -28.60\n",
       "35    137.20\n",
       "36      6.96\n",
       "37   -168.83\n",
       "38     18.59\n",
       "39     22.64\n",
       "Name: price, dtype: float64"
      ]
     },
     "metadata": {},
     "output_type": "display_data"
    }
   ],
   "source": [
    "display(data['price'].diff().head(20))"
   ]
  }
 ],
 "metadata": {
  "kernelspec": {
   "display_name": "Python 3 (ipykernel)",
   "language": "python",
   "name": "python3"
  },
  "language_info": {
   "codemirror_mode": {
    "name": "ipython",
    "version": 3
   },
   "file_extension": ".py",
   "mimetype": "text/x-python",
   "name": "python",
   "nbconvert_exporter": "python",
   "pygments_lexer": "ipython3",
   "version": "3.9.13"
  }
 },
 "nbformat": 4,
 "nbformat_minor": 5
}
